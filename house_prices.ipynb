{
  "nbformat": 4,
  "nbformat_minor": 1,
  "metadata": {
    "language_info": {
      "nbconvert_exporter": "python",
      "pygments_lexer": "ipython3",
      "mimetype": "text/x-python",
      "name": "python",
      "codemirror_mode": {
        "name": "ipython",
        "version": 3
      },
      "file_extension": ".py",
      "version": "3.6.1"
    },
    "kernelspec": {
      "display_name": "Python 3",
      "language": "python",
      "name": "python3"
    }
  },
  "cells": [
    {
      "source": [
        "# Simple aproach to get to TOP 15% of the LB (0.11749) #"
      ],
      "metadata": {
        "_uuid": "ba112550a97b38218923de839505835beba435dd",
        "_cell_guid": "11f33245-1b3f-4e82-ac9c-0f1bb50d1bc4"
      },
      "cell_type": "markdown"
    },
    {
      "source": [
        "## Alejandro Guerra ##\n",
        "** October, 2017 **"
      ],
      "metadata": {
        "_uuid": "ab6a93f802aad83a7643687cc686d26d45e62ebe",
        "_cell_guid": "68a25458-a58a-443c-87a0-0c85ce534e7b"
      },
      "cell_type": "markdown"
    },
    {
      "source": [
        "This kernel is my simple approach to get to TOP 15% of the LB. *House Prices: Advanced Regression Techniques* is my first Kaggle competition so I will appreciate so much your suggestions.\n",
        "\n",
        "To develop this kernel I have read several useful kernels from other users. For example:\n",
        "* [Stacked Regressions : Top 4% on LeaderBoard](https://www.kaggle.com/serigne/stacked-regressions-top-4-on-leaderboard) by [Sergine](https://www.kaggle.com/serigne)\n",
        "* [Comprehensive data exploration with Python](https://www.kaggle.com/pmarcelino/comprehensive-data-exploration-with-python) by [Pedro Marcelino](https://www.kaggle.com/pmarcelino)\n",
        "* [Regularized Linear Models](https://www.kaggle.com/apapiu/regularized-linear-models) by [Alexandru Papiu](https://www.kaggle.com/apapiu)\n",
        "\n",
        "Also, it's very useful read the [documentation](http://ww2.amstat.org/publications/jse/v19n3/Decock/DataDocumentation.txt) of Ames Housing Data. Tasks like remove outliers and handle missing values are more easy and accurate if you read the documentation.\n",
        "\n",
        "In this notebook, I use 4 diferents models: Lasso Regression, Elastic Net Regrssion, Kernel Ridge Regression and XGBoost. First, I use GridSearch to tune model parameters and then I make the predictions averaging the predictions of the 4 models.\n",
        "\n",
        "The notebook is structured as follows:\n",
        "* **Data visualization and feature engeeniering:** \n",
        "\n",
        "     * Remove outliers\n",
        "     * Missing values imputation\n",
        "     * Create aditional features\n",
        "     * Log transformation of the target variable\n",
        "     * Transform skeewed features\n",
        "     * Encode categorical features\n",
        "* **Parameter tunning**\n",
        "* **Make predicctions**\n",
        "\n",
        "Thanks for reading!"
      ],
      "metadata": {
        "_uuid": "7b64c26602fa4c5c7c3385d7c269a3219004b369",
        "_cell_guid": "65ea66b4-0178-4350-a12d-bc7954e33d9c"
      },
      "cell_type": "markdown"
    },
    {
      "source": [
        "## Basic imports and get the data"
      ],
      "metadata": {
        "_uuid": "517bc251950ff4191fc2e5bb261d3d3edcef9d7b",
        "_cell_guid": "2d1d6bf0-3cfd-4444-9444-de8e9727aa88"
      },
      "cell_type": "markdown"
    },
    {
      "execution_count": null,
      "outputs": [],
      "metadata": {
        "_uuid": "a5e65b2a9d708728029e6a01ab0a0afd1c82d240",
        "collapsed": true,
        "_cell_guid": "b053138d-e749-48f0-93b4-1b20bf60ff9a"
      },
      "cell_type": "code",
      "source": [
        "# Basic imports\n",
        "import numpy as np\n",
        "import pandas as pd\n",
        "import matplotlib.pyplot as plt\n",
        "import seaborn as sns\n",
        "import warnings\n",
        "warnings.filterwarnings('ignore')"
      ]
    },
    {
      "execution_count": null,
      "outputs": [],
      "metadata": {
        "_uuid": "eeb2df378cc4d08e492bd5d296fa5cfd59562467",
        "collapsed": true,
        "_cell_guid": "fc013343-5415-4d2e-a17a-78cdf6ad95d6"
      },
      "cell_type": "code",
      "source": [
        "# Import data\n",
        "train = pd.read_csv(\"../input/train.csv\")\n",
        "test = pd.read_csv(\"../input/test.csv\")"
      ]
    },
    {
      "source": [
        "## Data visualization and feature engeeniering"
      ],
      "metadata": {
        "_uuid": "c9ef5c35efd8a36b9c39b9407b35e9a877d2ecc3",
        "_cell_guid": "59d45219-7c2f-460e-95a9-9e8e22643b42"
      },
      "cell_type": "markdown"
    },
    {
      "source": [
        "First, get the numbers of examples and features and its types."
      ],
      "metadata": {
        "_uuid": "aa4026659cda80aa934cf5b7f1a7a7ea0c9a410f",
        "_cell_guid": "bd4b8772-da5e-4cc1-86a0-3a25f2f3cb2a"
      },
      "cell_type": "markdown"
    },
    {
      "execution_count": null,
      "outputs": [],
      "metadata": {
        "_uuid": "5c57e3cbfe91e3d87f92b57d5e832406ecd249f7",
        "_cell_guid": "46865afc-ecbc-4d3c-92f5-d26fa09eb164"
      },
      "cell_type": "code",
      "source": [
        "# Get shape\n",
        "print(\"Shape of train dataset: \", train.shape)\n",
        "print(\"Shape of test dataset:  \", test.shape)\n",
        "# Get numbers of training examples...\n",
        "print(\"Training examples:      \", train.shape[0])\n",
        "print(\"Test examples:          \", test.shape[0])\n",
        "print(\"Features:               \", test.shape[1])\n",
        "# Types of the data\n",
        "print(\"Numerical features:     \", test.dtypes.value_counts()[1]+test.dtypes.value_counts()[2])\n",
        "print(\"Categorical features:   \", test.dtypes.value_counts()[0])"
      ]
    },
    {
      "source": [
        "### Remove Outliers ###\n",
        "\n",
        "Documentation for the Ames dataset says:\n",
        "*There are 5 observations that an instructor may wish to remove from the data set before giving it to students (a plot of SALE PRICE versus GR LIV AREA will indicate them quickly)....*\n",
        "\n",
        "Let's get the graph:"
      ],
      "metadata": {
        "_uuid": "38f7b214d325f0dff0148e4d37a97e3e50864b2b",
        "_cell_guid": "bb9adcbd-a3a6-4643-ad96-3da11935b089"
      },
      "cell_type": "markdown"
    },
    {
      "execution_count": null,
      "outputs": [],
      "metadata": {
        "_uuid": "7ed033ce24afafaee5f9d7a21eb980fbfa17436e",
        "_cell_guid": "2231de45-dc31-4aa0-838b-0e90cd1171f0"
      },
      "cell_type": "code",
      "source": [
        "# Plot SalePrice vs GrLivArea\n",
        "plt.scatter(x = train['GrLivArea'], y = train['SalePrice'])\n",
        "plt.ylabel('SalePrice')\n",
        "plt.xlabel('GrLivArea')\n",
        "plt.show()"
      ]
    },
    {
      "source": [
        "As we can see at the right, the data has two clear outliers. Let's remove them and check the results."
      ],
      "metadata": {
        "_uuid": "9b63bb9b65ff4597ef465bb99241b2d9d215802d",
        "_cell_guid": "592a2fdc-091b-4871-8308-2452f8336754"
      },
      "cell_type": "markdown"
    },
    {
      "execution_count": null,
      "outputs": [],
      "metadata": {
        "_uuid": "feb625d079457a48b0d96af87b4d31e50327f1f0",
        "_cell_guid": "043af5e1-b5ae-48c3-bd61-70efa8657397"
      },
      "cell_type": "code",
      "source": [
        "# Delete Outliers\n",
        "train = train.drop(train[(train['GrLivArea']>4000) & (train['SalePrice']<300000)].index)\n",
        "# Plot SalePrice vs GrLivArea\n",
        "plt.scatter(x = train['GrLivArea'], y = train['SalePrice'])\n",
        "plt.ylabel('SalePrice')\n",
        "plt.xlabel('GrLivArea')\n",
        "plt.show()"
      ]
    },
    {
      "source": [
        " To continue the analysis concatenate training and test examples."
      ],
      "metadata": {
        "_uuid": "da9a3cacb68701b6bb62128f8786a57ec68fb799",
        "_cell_guid": "f4b83c70-1660-4baa-a41b-8dcb5711fd7d"
      },
      "cell_type": "markdown"
    },
    {
      "execution_count": null,
      "outputs": [],
      "metadata": {
        "_uuid": "1ae6a18f240d0b9a27fed1f669d9521c13188ad7",
        "collapsed": true,
        "_cell_guid": "9d224716-33fa-4483-9c06-a50cea469d30"
      },
      "cell_type": "code",
      "source": [
        "# Concatenate train and test datasets\n",
        "data = pd.concat((train, test),ignore_index=True)\n",
        "data = data.drop(\"SalePrice\",1)"
      ]
    },
    {
      "source": [
        "### Missing Values Imputation###\n",
        "\n",
        "Check the number of missing values:"
      ],
      "metadata": {
        "_uuid": "e4b10c0c7786b44ebbf7690d42ef3d74c25651cf",
        "_cell_guid": "ca49ff63-9b25-41c4-befc-60a74000be16"
      },
      "cell_type": "markdown"
    },
    {
      "execution_count": null,
      "outputs": [],
      "metadata": {
        "_uuid": "f0da16f6b27b88633d752370eaadb35e2ee48adb",
        "_cell_guid": "b1e136e4-6f51-4ffa-8476-c814ef4e7278"
      },
      "cell_type": "code",
      "source": [
        "s1 = data.isnull().sum()[data.isnull().sum() != 0]\n",
        "s2 = s1/data.shape[0]\n",
        "pd.concat({'Missing Values': s1,\n",
        "           'Missing Ratio': s2},axis=1).sort_values(by = 'Missing Ratio', ascending = False)"
      ]
    },
    {
      "source": [
        "To impute missing values is crucial read the Ames Housing Data documentation. Most missing values correspond to 0 or None."
      ],
      "metadata": {
        "_uuid": "9be0ef4b13790196e69b5e5c37e486c56cdc65a4",
        "_cell_guid": "d8dbe987-499a-40cf-b536-c9b5647326da"
      },
      "cell_type": "markdown"
    },
    {
      "execution_count": null,
      "outputs": [],
      "metadata": {
        "_uuid": "fb7d90deaa7435899b2678cd8392b84e97985fdb",
        "collapsed": true,
        "_cell_guid": "1fe188a0-dcff-48fa-a499-c9fbcdc11dec"
      },
      "cell_type": "code",
      "source": [
        "# Missing Values imputation\n",
        "# Replace NaN with 0\n",
        "for col in ('BsmtFinSF1', 'BsmtFinSF2', 'BsmtUnfSF','TotalBsmtSF', 'BsmtFullBath', 'GarageCars',\n",
        "           'GarageArea', 'MasVnrArea', 'BsmtHalfBath'):\n",
        "    data[col] = data[col].fillna(0)\n",
        "\n",
        "# Replace NaN with median\n",
        "data['LotFrontage'] = data['LotFrontage'].fillna(data['LotFrontage'].median())\n",
        "\n",
        "# Replace with None\n",
        "for col in ('PoolQC', 'Fence', 'FireplaceQu','GarageType','GarageFinish', 'GarageQual',\n",
        "            'GarageCond', 'BsmtQual', 'BsmtCond', 'BsmtExposure', 'BsmtFinType1',\n",
        "            'MSSubClass', 'MiscFeature'):\n",
        "    data[col] = data[col].fillna('None')\n",
        "    \n",
        "# Replace with mode\n",
        "for col in ('Exterior1st', 'Exterior2nd', 'KitchenQual', 'Electrical', 'SaleType',\n",
        "            'MSZoning', 'GarageYrBlt'):\n",
        "    data[col] =  data[col].fillna(data[col].mode()[0])\n",
        "    \n",
        "# Replace with especific value\n",
        "data[\"Functional\"] = data[\"Functional\"].fillna(\"Typ\")\n",
        "\n",
        "# Delete some features\n",
        "data = data.drop(['Id', 'Utilities'],1)"
      ]
    },
    {
      "source": [
        "### Create TotalSF feature ###\n",
        "Create a feature that computes the total area of the house."
      ],
      "metadata": {
        "_uuid": "5a764e835db66ebbfd4dc120ead7d80a1ca225e4",
        "_cell_guid": "277fd25f-8745-4c58-bf70-76e7b5b40cbd"
      },
      "cell_type": "markdown"
    },
    {
      "execution_count": null,
      "outputs": [],
      "metadata": {
        "_uuid": "6701ffd0a02bf3bb7db1bd75470c5b7a1bbf6bb7",
        "collapsed": true,
        "_cell_guid": "421b6db9-cab9-4fc9-bbf4-77a32b73d951"
      },
      "cell_type": "code",
      "source": [
        "# Create total square feets feature\n",
        "TotalSF = data['1stFlrSF'] + data['2ndFlrSF'] + data['TotalBsmtSF']\n",
        "data.insert(loc=0,column=\"TotalSF\", value=TotalSF)"
      ]
    },
    {
      "source": [
        "### Log transformation of the target variable###"
      ],
      "metadata": {
        "_uuid": "6e0d63dab8a6d3c49be26a3e7a7706e7c1584706",
        "_cell_guid": "eb82c16b-a0b7-4b12-84b3-c65ff652a039"
      },
      "cell_type": "markdown"
    },
    {
      "source": [
        "Get the histogram plot of the target variable"
      ],
      "metadata": {
        "_uuid": "5ae070c16922c0690372891adc13433bb8d68fa6",
        "_cell_guid": "95062a84-c5cd-4ee1-9ebe-34fd8efe026b"
      },
      "cell_type": "markdown"
    },
    {
      "execution_count": null,
      "outputs": [],
      "metadata": {
        "_uuid": "afe0caa0ec3246e086b00c6b052ec65a3aff0dc6",
        "_cell_guid": "58062a11-9f61-4582-ac3b-1cfc25756627"
      },
      "cell_type": "code",
      "source": [
        "Y = train.SalePrice\n",
        "sns.distplot(Y)"
      ]
    },
    {
      "source": [
        "The target variable is right skeewed. Let's transform it! We use log(1+x)."
      ],
      "metadata": {
        "_uuid": "7b27a64a17bbb092c78f4365b84766d32cb0474b",
        "_cell_guid": "1b90b4ce-e18d-46f1-8beb-4ba4bbdd2276"
      },
      "cell_type": "markdown"
    },
    {
      "execution_count": null,
      "outputs": [],
      "metadata": {
        "_uuid": "8a7a5ef9633db56447e6e1d161bd777dc85412cf",
        "collapsed": true,
        "_cell_guid": "59ef1af2-30d6-429a-938a-2a871fb0d790"
      },
      "cell_type": "code",
      "source": [
        "# Log transform target variable\n",
        "y_log = np.log1p(Y)"
      ]
    },
    {
      "source": [
        "Check the result"
      ],
      "metadata": {
        "_uuid": "3d4e126f80ba74873f41db43f141dec787c0111c",
        "_cell_guid": "c382e8ce-cf68-4e18-8d3c-8c66f3eb4399"
      },
      "cell_type": "markdown"
    },
    {
      "execution_count": null,
      "outputs": [],
      "metadata": {
        "_uuid": "6544ae39298511caafd9decd9d678b68da9d1cdd",
        "_cell_guid": "a544c1af-c730-4959-808e-f41a957d8a75"
      },
      "cell_type": "code",
      "source": [
        "sns.distplot(y_log)"
      ]
    },
    {
      "source": [
        "### Transform skeewed features ###\n",
        "Also use log(1+x)"
      ],
      "metadata": {
        "_uuid": "c3ff05aa544c8fa4df7e33ce791ab7cf7e5f944c",
        "_cell_guid": "51792ba8-8c6e-4932-afdc-be5c3f8070b3"
      },
      "cell_type": "markdown"
    },
    {
      "execution_count": null,
      "outputs": [],
      "metadata": {
        "_uuid": "ea4e5b2efdab4f97717bfc52c12a867c0634135e",
        "collapsed": true,
        "_cell_guid": "1404e238-003d-4f85-8186-aa8d77223194"
      },
      "cell_type": "code",
      "source": [
        "# Transform skewed features\n",
        "skew = abs(data.skew()).sort_values(ascending = False)\n",
        "skew_features = skew[skew > 1].index\n",
        "\n",
        "data[skew_features] = np.log1p(data[skew_features])"
      ]
    },
    {
      "source": [
        "### Encode categorical features ###\n",
        "I use dummy encoding. It works better than label encoding."
      ],
      "metadata": {
        "_uuid": "bf43b14722f1dbe84a99925e24bb5cb058084797",
        "_cell_guid": "d2a4089b-4b96-4b6b-b249-ca4d75da40f0"
      },
      "cell_type": "markdown"
    },
    {
      "execution_count": null,
      "outputs": [],
      "metadata": {
        "_uuid": "07c461b382ac874fa90e10fbff894576d75e4942",
        "collapsed": true,
        "_cell_guid": "8d0f72c9-75bc-4a1c-a14d-527203e0af01"
      },
      "cell_type": "code",
      "source": [
        "data = pd.get_dummies(data)"
      ]
    },
    {
      "execution_count": null,
      "outputs": [],
      "metadata": {
        "_uuid": "bcec55ecb8b1b293b419432e43c3700c45836bc7",
        "collapsed": true,
        "_cell_guid": "da6aab51-f8a9-424e-878c-ce3fe3129e68"
      },
      "cell_type": "code",
      "source": [
        "# Split in train an test datasets\n",
        "X_train = data[:train.shape[0]]\n",
        "X_test = data[train.shape[0]:]"
      ]
    },
    {
      "source": [
        "## Model parameter tunning ## "
      ],
      "metadata": {
        "_uuid": "89dcd88c517f1fbde37417c44baafd54b6f11d51",
        "_cell_guid": "131cfce5-1245-4760-8d3d-942309d54a78"
      },
      "cell_type": "markdown"
    },
    {
      "source": [
        "In this section I use GridSearch to get the best params for each model. First, import the models:"
      ],
      "metadata": {
        "_uuid": "f1df3d764b7ec9d5fdddf0c3c88638ec88739298",
        "_cell_guid": "a8936282-b690-4adf-913f-7089db9e131f"
      },
      "cell_type": "markdown"
    },
    {
      "execution_count": null,
      "outputs": [],
      "metadata": {
        "_uuid": "a5fff0da5b2c5e2fd97125781f02f79f1f79cf43",
        "collapsed": true,
        "_cell_guid": "9b876a5a-9802-4d4c-be73-9171bc86248e"
      },
      "cell_type": "code",
      "source": [
        "# Imports\n",
        "from sklearn.linear_model import Lasso, ElasticNet\n",
        "from sklearn.kernel_ridge import KernelRidge\n",
        "import xgboost as xgb\n",
        "from sklearn.model_selection import KFold, cross_val_score, GridSearchCV"
      ]
    },
    {
      "execution_count": null,
      "outputs": [],
      "metadata": {
        "_uuid": "35a3a1ec98cf500a90265405533976b7b2e0548b",
        "_cell_guid": "c5e69fdc-368a-4145-b6eb-4aa6d2e96b53"
      },
      "cell_type": "code",
      "source": [
        "# Parameter tunning Lasso\n",
        "model = Lasso()\n",
        "grid = GridSearchCV(estimator=model, param_grid={'alpha': [100,10,1,0.1,0.01,0.001]})\n",
        "grid.fit(X_train, y_log)\n",
        "\n",
        "print('Lasso Regression parameters:')\n",
        "print('Alpha: ',grid.best_estimator_.alpha)"
      ]
    },
    {
      "execution_count": null,
      "outputs": [],
      "metadata": {
        "_uuid": "02199969be102f729ffbd0c91bc0dc3bd4c11182",
        "_cell_guid": "74c9bb70-11ee-41dc-87af-673b492779bd"
      },
      "cell_type": "code",
      "source": [
        "# Parameter tunning ElasticNet\n",
        "model = ElasticNet()\n",
        "grid = GridSearchCV(estimator=model, param_grid={'alpha': [100,10,1,0.1,0.01,0.001],\n",
        "                                                 'l1_ratio': [0,0.1,0.2,0.3,0.4,0.5,0.6,0.7,0.8,0.9,1]})\n",
        "grid.fit(X_train, y_log)\n",
        "\n",
        "print('Elastic Net parameters:')\n",
        "print('Alpha: ',grid.best_estimator_.alpha)\n",
        "print('l1_ratio: ',grid.best_estimator_.l1_ratio)"
      ]
    },
    {
      "execution_count": null,
      "outputs": [],
      "metadata": {
        "_uuid": "ef74ffa24f0b50bdccccf55fd0d5aa62f7c46551",
        "_cell_guid": "9b46b255-2010-4908-a0e6-95020f27bf92"
      },
      "cell_type": "code",
      "source": [
        "# Parameter tunning Kernel Ridge Regression\n",
        "model = KernelRidge(kernel='polynomial')\n",
        "grid = GridSearchCV(estimator=model, param_grid={'alpha': [1000,10,1],\n",
        "                                                 'coef0': [1000,10,1],\n",
        "                                                 'degree': [2,3]})\n",
        "grid.fit(X_train, y_log)\n",
        "\n",
        "print('Kernel Ridge Regression parameters:')\n",
        "print('alpha: ',grid.best_estimator_.alpha)\n",
        "print('coef0: ',grid.best_estimator_.coef0)\n",
        "print('degree: ',grid.best_estimator_.degree)"
      ]
    },
    {
      "execution_count": null,
      "outputs": [],
      "metadata": {
        "_uuid": "608dc00e945a1e3d6c3d5e64f95825489a299bda",
        "_cell_guid": "58b829e5-8aff-47c7-9702-a76016224b6f"
      },
      "cell_type": "code",
      "source": [
        "# Parameter tunning XGB\n",
        "model = xgb.XGBRegressor()\n",
        "grid = GridSearchCV(estimator=model, param_grid={'n_estimators': [300,400,500,600,700],\n",
        "                                                 'max_depth': [2,3],\n",
        "                                                 'learning_rate': [0.05,0.1]})\n",
        "grid.fit(X_train, y_log)\n",
        "\n",
        "print('XGB Regressor parameters:')\n",
        "print('alpha: ',grid.best_estimator_.n_estimators)\n",
        "print('max_depth: ',grid.best_estimator_.max_depth)\n",
        "print('degree: ',grid.best_estimator_.learning_rate)"
      ]
    },
    {
      "source": [
        "## Make predictions! ##"
      ],
      "metadata": {
        "_uuid": "da41fc280107a8556b66ce56041ae8513342901f",
        "_cell_guid": "a05b295f-e891-446c-9700-789091ee85ca"
      },
      "cell_type": "markdown"
    },
    {
      "source": [
        "### Cross validate models ###"
      ],
      "metadata": {
        "_uuid": "dfaa6209be77cda6a70a08e881fac36040608a4b",
        "_cell_guid": "80c02d3f-c92f-47f3-ba8b-f8aa7fa406c0"
      },
      "cell_type": "markdown"
    },
    {
      "execution_count": null,
      "outputs": [],
      "metadata": {
        "_uuid": "1f2b43413e26aa09da4b2b25c8793ed5f12c91ae",
        "collapsed": true,
        "_cell_guid": "28957f1b-3c2f-4a18-9bd4-1240ff0a99b2"
      },
      "cell_type": "code",
      "source": [
        "# Cross - Validation score (Credits: Sergine)\n",
        "def rmsle_cv(model):\n",
        "    kf = KFold(5, shuffle=True, random_state=42).get_n_splits(X_train.values)\n",
        "    rmse= np.sqrt(-cross_val_score(model, X_train.values, y_log, scoring=\"neg_mean_squared_error\", cv = kf))\n",
        "    return(rmse)"
      ]
    },
    {
      "execution_count": null,
      "outputs": [],
      "metadata": {
        "_uuid": "096fd121e023cc5ac58cfa6c2fc9613da234f3fb",
        "_cell_guid": "d816d52e-c033-4f87-8d89-6e057d10be48"
      },
      "cell_type": "code",
      "source": [
        "# Lasso\n",
        "model_lasso = Lasso(alpha=0.001)\n",
        "\n",
        "score = rmsle_cv(model_lasso)\n",
        "print(\"Lasso Regression Score: {:.4f}\".format(score.mean()))"
      ]
    },
    {
      "execution_count": null,
      "outputs": [],
      "metadata": {
        "_uuid": "d88f576d64279160bbb78dad238e6e9861829118",
        "_cell_guid": "ab4812e9-77b1-4ae9-a469-d4eca8487432"
      },
      "cell_type": "code",
      "source": [
        "# ElasticNet\n",
        "model_enet = ElasticNet(alpha=0.001,l1_ratio=0.5)\n",
        "\n",
        "score = rmsle_cv(model_enet)\n",
        "print(\"ElasticNet Score: {:.4f}\".format(score.mean()))"
      ]
    },
    {
      "execution_count": null,
      "outputs": [],
      "metadata": {
        "_uuid": "c21a93e64e2fcd117e90164b42026d962ef37f2c",
        "_cell_guid": "77cc5c3b-888b-4c08-8324-6774121932a1"
      },
      "cell_type": "code",
      "source": [
        "# Kernel Ridge Regressor\n",
        "model_krr = KernelRidge(alpha=1000, coef0=1000, degree=2, kernel='polynomial')\n",
        "\n",
        "score = rmsle_cv(model_krr)\n",
        "print(\"Kernel Ridge Regressor Score: {:.4f}\".format(score.mean()))"
      ]
    },
    {
      "execution_count": null,
      "outputs": [],
      "metadata": {
        "_uuid": "0e634a32786fed80b05ceea6bd4c7ecf384f36ee",
        "_cell_guid": "1724c5c4-cf27-4623-a699-037b184e6be1"
      },
      "cell_type": "code",
      "source": [
        "# XGBoost Regressor\n",
        "model_xgb = xgb.XGBRegressor(n_estimators=700, max_depth=2, learning_rate=0.05)\n",
        "\n",
        "score = rmsle_cv(model_xgb)\n",
        "print(\"XGBoost Score: {:.4f}\".format(score.mean()))"
      ]
    },
    {
      "source": [
        "### Average models ###"
      ],
      "metadata": {
        "_uuid": "615b57b99b4988fe84c74759a11100f8b524ceb9",
        "_cell_guid": "1ec5be6a-7bb5-4da1-9cf0-4e244e6f9552"
      },
      "cell_type": "markdown"
    },
    {
      "execution_count": null,
      "outputs": [],
      "metadata": {
        "_uuid": "a99af9b253bb0a735804c7339f80930265aebb00",
        "collapsed": true,
        "_cell_guid": "51bfd8b4-e01a-4921-99f0-70a6af712f94"
      },
      "cell_type": "code",
      "source": [
        "model_krr.fit(X_train,y_log)\n",
        "p_krr = np.expm1(model_krr.predict(X_test))\n",
        "\n",
        "model_enet.fit(X_train,y_log)\n",
        "p_enet = np.expm1(model_enet.predict(X_test))\n",
        "\n",
        "model_lasso.fit(X_train,y_log)\n",
        "p_lasso = np.expm1(model_lasso.predict(X_test))\n",
        "\n",
        "model_xgb.fit(X_train,y_log)\n",
        "p_xgb = np.expm1(model_xgb.predict(X_test))"
      ]
    },
    {
      "execution_count": null,
      "outputs": [],
      "metadata": {
        "_uuid": "615cd6b149838f4bdd8f3435c11172175cd8d9f9",
        "collapsed": true,
        "_cell_guid": "d32d33ae-9cf8-43ff-b8bf-54cdc5ff7750"
      },
      "cell_type": "code",
      "source": [
        "# Ensemble 4 Models (Average)\n",
        "p_average = (p_lasso + p_xgb + p_krr + p_enet)/4\n",
        "\n",
        "out = pd.Series(p_average,index=test.loc[:,'Id'])\n",
        "out.name = 'SalePrice'\n",
        "out.to_csv('average.csv', header=True, index_label='Id')"
      ]
    }
  ]
}